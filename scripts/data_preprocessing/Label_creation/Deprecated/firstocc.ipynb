{
 "cells": [
  {
   "cell_type": "code",
   "execution_count": 1,
   "metadata": {},
   "outputs": [],
   "source": [
    "import csv\n",
    "import pandas as pd\n",
    "\n",
    "# Create a mapping from FieldID to Field by reading the TSV data dictionary\n",
    "map = dict(zip(\n",
    "    pd.read_csv('../../data/Data_Dictionary_Showcase.tsv', delimiter='\\t')['FieldID'],\n",
    "    pd.read_csv('../../data/Data_Dictionary_Showcase.tsv', delimiter='\\t')['Field']\n",
    "))\n",
    "\n",
    "# Path to the input CSV file containing only first occurrence columns\n",
    "file_path = '../../data/Preprocess/ukbxxxxxx.csv'\n",
    "\n",
    "foccdict = {}\n",
    "with open(file_path, 'r', newline='') as csvfile:\n",
    "    reader = csv.reader(csvfile)\n",
    "    \n",
    "    # Extract the header row to map column indices\n",
    "    indexmap = next(iter(reader))\n",
    "    for row in reader:\n",
    "        nonempty = {}\n",
    "        \n",
    "        # Enumerate over each column in the row\n",
    "        for i, info in enumerate(row):\n",
    "            if i == 0:\n",
    "                continue  # Skip the first column (eid)\n",
    "            \n",
    "            if info != '':\n",
    "                # Extract the FieldID from the header and get the corresponding Field name\n",
    "                field_id = int(indexmap[i].split('-')[0])\n",
    "                line = map[field_id]\n",
    "                \n",
    "                # If the Field name contains 'Date', process it\n",
    "                if 'Date' in line:\n",
    "                    # Extract the second word from the Field name and assign the value\n",
    "                    key = line.split(' ')[1]\n",
    "                    nonempty[key] = info\n",
    "        \n",
    "        foccdict[row[0]] = nonempty\n"
   ]
  },
  {
   "cell_type": "code",
   "execution_count": 5,
   "metadata": {},
   "outputs": [],
   "source": [
    "import numpy as np\n",
    "np.save('../../results/cache/firstocc',foccdict)"
   ]
  }
 ],
 "metadata": {
  "kernelspec": {
   "display_name": "dl",
   "language": "python",
   "name": "python3"
  },
  "language_info": {
   "codemirror_mode": {
    "name": "ipython",
    "version": 3
   },
   "file_extension": ".py",
   "mimetype": "text/x-python",
   "name": "python",
   "nbconvert_exporter": "python",
   "pygments_lexer": "ipython3",
   "version": "3.11.5"
  }
 },
 "nbformat": 4,
 "nbformat_minor": 2
}
