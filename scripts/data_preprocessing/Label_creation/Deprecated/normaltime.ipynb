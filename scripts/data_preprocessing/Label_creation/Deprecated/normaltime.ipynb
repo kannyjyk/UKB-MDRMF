{
 "cells": [
  {
   "cell_type": "code",
   "execution_count": null,
   "metadata": {},
   "outputs": [],
   "source": [
    "raise(\"Deprecated\")\n",
    "import pandas as pd \n",
    "import numpy as np"
   ]
  },
  {
   "cell_type": "code",
   "execution_count": null,
   "metadata": {},
   "outputs": [],
   "source": [
    "inceid=pd.read_csv('../../../results/Process_missingness/baseline_imputed.csv')['eid'].to_numpy()"
   ]
  },
  {
   "cell_type": "code",
   "execution_count": null,
   "metadata": {},
   "outputs": [],
   "source": [
    "np.concatenate(pd.read_csv('../../results/phecode130.csv').to_numpy())"
   ]
  },
  {
   "cell_type": "code",
   "execution_count": null,
   "metadata": {},
   "outputs": [],
   "source": [
    "import os\n",
    "icdmap=dict(zip(pd.read_csv('../../../data/phecode_icd10.csv')['ALT_CODE'].to_numpy(),pd.read_csv('../../../data/phecode_icd10.csv')['PheCode'].to_numpy()))\n",
    "phe=np.concatenate(pd.read_csv('../../../data/phecode.csv').to_numpy())\n",
    "valid={}\n",
    "for k,v in icdmap.items():\n",
    "    if v in phe:\n",
    "        valid[k]=v\n",
    "valid"
   ]
  },
  {
   "cell_type": "code",
   "execution_count": null,
   "metadata": {},
   "outputs": [],
   "source": [
    "validX={}\n",
    "for k,v in icdmap.items():\n",
    "    if 'X' == k[-1]:\n",
    "        if v in list(phe):\n",
    "            validX[k[:-1]]=v \n",
    "validX"
   ]
  },
  {
   "cell_type": "code",
   "execution_count": null,
   "metadata": {},
   "outputs": [],
   "source": [
    "def icdtophe(icd):\n",
    "    if icd in valid.keys():\n",
    "        return True,valid[icd]\n",
    "    elif icd[:-3] in validX.keys():\n",
    "        return True,validX[icd[:-3]]\n",
    "    else:\n",
    "        return False,None\n",
    "        "
   ]
  },
  {
   "cell_type": "code",
   "execution_count": null,
   "metadata": {},
   "outputs": [],
   "source": [
    "cd3=pd.read_csv('../../../data/cd3.tsv',delimiter='\\t')\n",
    "icdmapnonalt=dict(zip(pd.read_csv('../../../data/phecode_icd10.csv')['ICD10'].to_numpy(),pd.read_csv('../../../data/phecode_icd10.csv')['PheCode'].to_numpy()))\n",
    "phemeaning=dict(zip(pd.read_csv('../../../data/phecode_definitions1.2.csv')['phecode'].to_numpy(),pd.read_csv('../../../data/phecode_definitions1.2.csv')['phenotype'].to_numpy()))\n"
   ]
  },
  {
   "cell_type": "code",
   "execution_count": null,
   "metadata": {},
   "outputs": [],
   "source": [
    "icdmapnonalt"
   ]
  },
  {
   "cell_type": "code",
   "execution_count": null,
   "metadata": {},
   "outputs": [],
   "source": [
    "def reslove_intv(intv):\n",
    "    inc=[]\n",
    "    start,end=intv.split('-')\n",
    "    for k,v in icdmapnonalt.items():\n",
    "        if start<=k<=end:\n",
    "            inc.append(icdmapnonalt[k])\n",
    "    if len(inc)==0:\n",
    "        if intv[:3] =='C07':\n",
    "            inc=[icdmapnonalt[i[2][:3]]]\n",
    "    if len(inc)==0:\n",
    "        print(i)\n",
    "    #print(intv,inc)\n",
    "    return inc\n",
    "def reslove_code(cd):\n",
    "    phe=''\n",
    "    if cd in icdmapnonalt.keys():\n",
    "        phe=icdmapnonalt[cd]\n",
    "    elif cd[:3] in icdmap.keys():\n",
    "        phe=icdmap[i[2][:3]]\n",
    "    elif cd[:3] in icdmapnonalt.keys():\n",
    "        phe=icdmapnonalt[i[2][:3]]\n",
    "    else:\n",
    "        phe=np.nan\n",
    "        if False:#'.' not in cd:\n",
    "            cd=cd+'.0'\n",
    "            phe=reslove_code(cd)[0]\n",
    "        else:\n",
    "            print(cd)\n",
    "    return [phe]\n",
    "cdcancer={}\n",
    "mDF=[]\n",
    "for i in cd3.to_numpy():\n",
    "    if '-' not in i[2]:\n",
    "        res=reslove_code(i[2])\n",
    "    elif ',' not in i[2]:\n",
    "        res=reslove_intv(i[2])\n",
    "    else:\n",
    "        res=[]\n",
    "        for itm in i[2].split(', '):\n",
    "            if '-' not in itm:\n",
    "                res+=reslove_code(itm)\n",
    "            else:\n",
    "                res+=reslove_intv(itm)\n",
    "    res=np.unique(res)\n",
    "    incres=[]\n",
    "    for t in res:\n",
    "        if t in phe:\n",
    "            incres.append(t)\n",
    "    for t in incres:\n",
    "        mDF.append([i[0],i[1],t,phemeaning[t]])\n",
    "    ####\n",
    "    cdcancer[i[0]]=incres[0]"
   ]
  },
  {
   "cell_type": "code",
   "execution_count": null,
   "metadata": {},
   "outputs": [],
   "source": [
    "mDF"
   ]
  },
  {
   "cell_type": "code",
   "execution_count": null,
   "metadata": {},
   "outputs": [],
   "source": [
    "pd.DataFrame(mDF).to_csv('../../../data/cancermap.csv')"
   ]
  },
  {
   "cell_type": "code",
   "execution_count": null,
   "metadata": {},
   "outputs": [],
   "source": [
    "include='''20001\n",
    "20002\n",
    "40001\n",
    "41270'''.split('\\n')\n",
    "include"
   ]
  },
  {
   "cell_type": "code",
   "execution_count": null,
   "metadata": {},
   "outputs": [],
   "source": [
    "cod6=pd.read_csv('../../../data/Self_report_FO_mappings_Jan2022.tsv',delimiter='\\t')"
   ]
  },
  {
   "cell_type": "code",
   "execution_count": null,
   "metadata": {},
   "outputs": [],
   "source": [
    "cod6icd={}\n",
    "for i in cod6.to_numpy():\n",
    "    cod6icd[i[0]]=i[1]"
   ]
  },
  {
   "cell_type": "code",
   "execution_count": null,
   "metadata": {},
   "outputs": [],
   "source": [
    "cod6icd"
   ]
  },
  {
   "cell_type": "code",
   "execution_count": null,
   "metadata": {},
   "outputs": [],
   "source": [
    "includewtime='''40001,40007\n",
    "41270,41280\n",
    "20001,20007\n",
    "20002,20009'''.split('\\n')\n",
    "includewtime"
   ]
  },
  {
   "cell_type": "code",
   "execution_count": null,
   "metadata": {},
   "outputs": [],
   "source": [
    "def handle_code(datai,data):\n",
    "    status=False\n",
    "    if data=='20002':\n",
    "        if int(float(datai)) in cod6icd.keys():\n",
    "            status,code=icdtophe(cod6icd[int(float(datai))])\n",
    "    elif data=='20001':\n",
    "        if int(float(datai)) in cdcancer.keys():\n",
    "            status=True\n",
    "            code=cdcancer[int(float(datai))]\n",
    "    else:\n",
    "        status,code=icdtophe(datai)\n",
    "    if status:\n",
    "        return status,code\n",
    "    else:\n",
    "        return status,None\n",
    "\n",
    "handle_code(1002.0,'20001')"
   ]
  },
  {
   "cell_type": "code",
   "execution_count": null,
   "metadata": {},
   "outputs": [],
   "source": [
    "overall={}\n",
    "for i in includewtime:\n",
    "    data,time=i.split(',')\n",
    "    DF=[]\n",
    "    for i in sorted(os.listdir('../../../results/cache/ukbcsv/')):\n",
    "        if data in i:\n",
    "            DF.append(pd.read_csv('../../../results/cache/ukbcsv/'+i,header=None))\n",
    "    dataDF=pd.concat(DF,axis=1)\n",
    "    DF=[]\n",
    "    for i in sorted(os.listdir('../../../results/cache/ukbcsv/')):\n",
    "        if time in i:\n",
    "            DF.append(pd.read_csv('../../../results/cache/ukbcsv/'+i,header=None))\n",
    "    timeDF=pd.concat(DF,axis=1)\n",
    "    tnp=timeDF.to_numpy()\n",
    "    dnp=dataDF.to_numpy()\n",
    "    perfiledisease=[]\n",
    "    for j in range(tnp.shape[0]):\n",
    "        disedict={}\n",
    "        for i in range(tnp.shape[1]):\n",
    "            timei=str(tnp[j,i])\n",
    "            datai=str(dnp[j,i])\n",
    "            if timei!='nan' and datai!='nan':\n",
    "                status,code=handle_code(datai,data)\n",
    "                if not status:#not in our range\n",
    "                    continue\n",
    "                try:\n",
    "                    if float(timei)<0:#error code\n",
    "                        continue\n",
    "                except ValueError:#41270 text\n",
    "                    pass\n",
    "                datai=code\n",
    "                if datai in disedict.keys():\n",
    "                    if timei<disedict[datai]:\n",
    "                        disedict[datai]=timei\n",
    "                else:\n",
    "                    disedict[datai]=timei\n",
    "        perfiledisease.append(disedict)\n",
    "    overall[data]=perfiledisease"
   ]
  },
  {
   "cell_type": "code",
   "execution_count": null,
   "metadata": {},
   "outputs": [],
   "source": [
    "import pickle\n",
    "pricare=pickle.load( open('../../../results/cache/pricare', 'rb'))"
   ]
  },
  {
   "cell_type": "code",
   "execution_count": null,
   "metadata": {},
   "outputs": [],
   "source": [
    "fulleid=np.concatenate(pd.read_csv('../../../results/cache/ukbcsv/eid.csv',header=None).to_numpy())\n",
    "fulleid=list(fulleid)"
   ]
  },
  {
   "cell_type": "code",
   "execution_count": null,
   "metadata": {},
   "outputs": [],
   "source": [
    "priprocessed=[]\n",
    "for k in fulleid:\n",
    "    if k not in pricare.keys():\n",
    "        priprocessed.append({})\n",
    "    else:\n",
    "        v=pricare[k]\n",
    "        disedict={}\n",
    "        for c,date in v.items():\n",
    "            status,code=handle_code(c,'42040')\n",
    "            if status:\n",
    "                date=date.split('/')\n",
    "                date=f'{date[2]}-{date[1]}-{date[0]}'\n",
    "                datai=code\n",
    "                if datai in disedict.keys():\n",
    "                    if date<disedict[datai]:\n",
    "                        disedict[datai]=date \n",
    "                else:\n",
    "                    disedict[datai]=date \n",
    "        priprocessed.append(disedict)\n"
   ]
  },
  {
   "cell_type": "code",
   "execution_count": null,
   "metadata": {},
   "outputs": [],
   "source": [
    "priprocessed"
   ]
  },
  {
   "cell_type": "code",
   "execution_count": null,
   "metadata": {},
   "outputs": [],
   "source": [
    "import numpy as np\n",
    "focc=np.load('../../../results/cache/firstocc.npy',allow_pickle=1).item()"
   ]
  },
  {
   "cell_type": "code",
   "execution_count": null,
   "metadata": {},
   "outputs": [],
   "source": [
    "list(focc.keys())[0]"
   ]
  },
  {
   "cell_type": "code",
   "execution_count": null,
   "metadata": {},
   "outputs": [],
   "source": [
    "foccprocessed=[]\n",
    "for k in fulleid:\n",
    "    if k not in pricare.keys():\n",
    "        foccprocessed.append({})\n",
    "    elif str(k) not in focc.keys():\n",
    "        foccprocessed.append({})\n",
    "    else:\n",
    "        v=focc[str(k)]\n",
    "        disedict={}\n",
    "        for c,date in v.items():\n",
    "            status,code=handle_code(c,'130000')\n",
    "            if status:\n",
    "                datai=code\n",
    "                if datai in disedict.keys():\n",
    "                    if date<disedict[datai]:\n",
    "                        disedict[datai]=date \n",
    "                else:\n",
    "                    disedict[datai]=date \n",
    "        foccprocessed.append(disedict)"
   ]
  },
  {
   "cell_type": "code",
   "execution_count": null,
   "metadata": {},
   "outputs": [],
   "source": [
    "overall['42040']=priprocessed"
   ]
  },
  {
   "cell_type": "code",
   "execution_count": null,
   "metadata": {},
   "outputs": [],
   "source": [
    "overall['130000']=foccprocessed"
   ]
  },
  {
   "cell_type": "code",
   "execution_count": null,
   "metadata": {},
   "outputs": [],
   "source": [
    "for k,v in overall.items():\n",
    "    newv=[]\n",
    "    for s in v:\n",
    "        noerror={}\n",
    "        for tempphe,time in s.items():\n",
    "            if time in ['1901-01-01','1902-02-02','1903-03-03','2037-07-07']:\n",
    "                continue\n",
    "            else:\n",
    "                noerror[tempphe]=time\n",
    "        newv.append(noerror)\n",
    "    overall[k]=newv"
   ]
  },
  {
   "cell_type": "code",
   "execution_count": null,
   "metadata": {},
   "outputs": [],
   "source": [
    "overall.keys()"
   ]
  },
  {
   "cell_type": "code",
   "execution_count": null,
   "metadata": {},
   "outputs": [],
   "source": [
    "for k in ['40001', '41270', '20001', '20002', '42040', '130000']:\n",
    "    totaltime=[]\n",
    "    for i in overall[k]:\n",
    "        totaltime+=list(i.values())\n",
    "    if k in ['40001', '20001', '20002']:\n",
    "        totaltime=np.array(totaltime,dtype=float)\n",
    "    print(min(totaltime),max(totaltime))"
   ]
  },
  {
   "cell_type": "code",
   "execution_count": null,
   "metadata": {},
   "outputs": [],
   "source": [
    "fulleid_dict = {value: index for index, value in enumerate(fulleid)}\n",
    "incidx = [fulleid_dict[i] for i in inceid]\n",
    "incidx"
   ]
  },
  {
   "cell_type": "code",
   "execution_count": null,
   "metadata": {},
   "outputs": [],
   "source": [
    "f34=np.concatenate(pd.read_csv('../../../results/cache/ukbcsv/34-0.0.csv',header=None).to_numpy())"
   ]
  },
  {
   "cell_type": "code",
   "execution_count": null,
   "metadata": {},
   "outputs": [],
   "source": [
    "f52=np.concatenate(pd.read_csv('../../../results/cache/ukbcsv/52-0.0.csv',header=None).to_numpy())"
   ]
  },
  {
   "cell_type": "code",
   "execution_count": null,
   "metadata": {},
   "outputs": [],
   "source": [
    "f53=np.concatenate(pd.read_csv('../../../results/cache/ukbcsv/53-0.0.csv',header=None).to_numpy())"
   ]
  },
  {
   "cell_type": "code",
   "execution_count": null,
   "metadata": {},
   "outputs": [],
   "source": [
    "ageofr=[]\n",
    "agetillnow=[]\n",
    "for i,d in enumerate(f53):\n",
    "    ageofr.append(int(d.split('-')[0])-f34[i]+int(d.split('-')[1])/12-f52[i]/12+int(d.split('-')[2])/365)\n",
    "    agetillnow.append(2024-f34[i]-f52[i]/12)\n",
    "agetillnow"
   ]
  },
  {
   "cell_type": "code",
   "execution_count": null,
   "metadata": {},
   "outputs": [],
   "source": [
    "ageofr"
   ]
  },
  {
   "cell_type": "code",
   "execution_count": null,
   "metadata": {},
   "outputs": [],
   "source": [
    "ymd=[]\n",
    "def calctime(date,year,mo):\n",
    "    y,m,d=np.array(date.split('-'),dtype=int)\n",
    "    return y-year+(m-mo)/12+d/365"
   ]
  },
  {
   "cell_type": "code",
   "execution_count": null,
   "metadata": {},
   "outputs": [],
   "source": [
    "for i in range(len(overall['41270'])):\n",
    "    for k,v in overall['41270'][i].items():\n",
    "        overall['41270'][i][k]=calctime(v,f34[i],f52[i])"
   ]
  },
  {
   "cell_type": "code",
   "execution_count": null,
   "metadata": {},
   "outputs": [],
   "source": [
    "for i in range(len(overall['42040'])):\n",
    "    for k,v in overall['42040'][i].items():\n",
    "        overall['42040'][i][k]=calctime(v,f34[i],f52[i])"
   ]
  },
  {
   "cell_type": "code",
   "execution_count": null,
   "metadata": {},
   "outputs": [],
   "source": [
    "for i in range(len(overall['130000'])):\n",
    "    for k,v in overall['130000'][i].items():\n",
    "        overall['130000'][i][k]=calctime(v,f34[i],f52[i])"
   ]
  },
  {
   "cell_type": "code",
   "execution_count": null,
   "metadata": {},
   "outputs": [],
   "source": [
    "len(overall['20002'])"
   ]
  },
  {
   "cell_type": "code",
   "execution_count": null,
   "metadata": {},
   "outputs": [],
   "source": [
    "overall"
   ]
  },
  {
   "cell_type": "code",
   "execution_count": null,
   "metadata": {},
   "outputs": [],
   "source": [
    "phe=list(phe)"
   ]
  },
  {
   "cell_type": "code",
   "execution_count": null,
   "metadata": {},
   "outputs": [],
   "source": [
    "cd={}\n",
    "for k,v in overall.items():\n",
    "    pd={}\n",
    "    print(k,len(v))\n",
    "    for i in v:\n",
    "        for s,t in i.items():\n",
    "            if s in pd.keys():\n",
    "                pd[s]+=1\n",
    "            else:\n",
    "                pd[s]=1\n",
    "    cd[k]=pd\n",
    "import csv\n",
    "\n",
    "data = cd\n",
    "output_file = '../../../results/sumdata.csv'\n",
    "with open(output_file, 'w', newline='') as csvfile:\n",
    "    writer = csv.writer(csvfile)\n",
    "    writer.writerow(['Key'] + sorted(list(data.keys())))\n",
    "    inner_keys = np.concatenate(pd.read_csv('../../../data/phecode.csv').to_numpy())\n",
    "    for inner_key in inner_keys:\n",
    "        row = [str(inner_key)]\n",
    "        for key in data.keys():\n",
    "            row.append(data[key].get(inner_key, ''))\n",
    "        writer.writerow(row)\n"
   ]
  },
  {
   "cell_type": "code",
   "execution_count": null,
   "metadata": {},
   "outputs": [],
   "source": [
    "\n",
    "for k in overall.keys():\n",
    "    matrix=[]\n",
    "    total=0\n",
    "    for i in range(502244):\n",
    "        temp=np.zeros((len(phe),))\n",
    "        v=overall[k]\n",
    "        add=0\n",
    "        for code,time in v[i].items():\n",
    "            add=1\n",
    "            dindex=phe.index(code)\n",
    "            time=float(time)\n",
    "            if time-ageofr[i]>0:\n",
    "                temp[dindex]=1\n",
    "            else:\n",
    "                temp[dindex]=np.nan\n",
    "        total+=add\n",
    "        matrix.append(temp)\n",
    "    print(k,total,np.nansum(np.array(matrix)))"
   ]
  },
  {
   "cell_type": "code",
   "execution_count": null,
   "metadata": {},
   "outputs": [],
   "source": [
    "for k in overall.keys():\n",
    "    matrix=[]\n",
    "    total=0\n",
    "    for i in range(502244):\n",
    "        temp=np.zeros((len(phe),))\n",
    "        v=overall[k]\n",
    "        add=0\n",
    "        for code,time in v[i].items():\n",
    "            add=1\n",
    "            dindex=phe.index(code)\n",
    "            time=float(time)\n",
    "            if time-ageofr[i]>0:\n",
    "                temp[dindex]=1\n",
    "            else:\n",
    "                temp[dindex]=1\n",
    "        total+=add\n",
    "        matrix.append(temp)\n",
    "    print(k,total,np.nansum(np.array(matrix)))"
   ]
  },
  {
   "cell_type": "code",
   "execution_count": null,
   "metadata": {},
   "outputs": [],
   "source": [
    "matrix=[]\n",
    "for i in range(502244):\n",
    "    print(i)\n",
    "    temp=np.zeros((len(phe),))\n",
    "    for k,v in overall.items():\n",
    "        for code,time in v[i].items():\n",
    "            dindex=phe.index(code)\n",
    "            time=float(time)\n",
    "            if time-ageofr[i]>0:\n",
    "                temp[dindex]=1\n",
    "            else:\n",
    "                temp[dindex]=np.nan\n",
    "    matrix.append(temp)"
   ]
  },
  {
   "cell_type": "code",
   "execution_count": null,
   "metadata": {},
   "outputs": [],
   "source": [
    "np.nansum(matrix)"
   ]
  },
  {
   "cell_type": "code",
   "execution_count": null,
   "metadata": {},
   "outputs": [],
   "source": [
    "matrix=[]\n",
    "for i in range(502244):\n",
    "    print(i)\n",
    "    temp=np.zeros((len(phe),))\n",
    "    for k,v in overall.items():\n",
    "        for code,time in v[i].items():\n",
    "            dindex=phe.index(code)\n",
    "            time=float(time)\n",
    "            if time-ageofr[i]>0:\n",
    "                temp[dindex]=1\n",
    "            else:\n",
    "                temp[dindex]=1\n",
    "    matrix.append(temp)"
   ]
  },
  {
   "cell_type": "code",
   "execution_count": null,
   "metadata": {},
   "outputs": [],
   "source": [
    "np.nansum(matrix)"
   ]
  },
  {
   "cell_type": "code",
   "execution_count": null,
   "metadata": {},
   "outputs": [],
   "source": [
    "matrix=[]\n",
    "for i in range(502244):\n",
    "    print(i)\n",
    "    temp=np.ones((len(phe),))*agetillnow[i]\n",
    "    for k,v in overall.items():\n",
    "        for code,time in v[i].items():\n",
    "            dindex=phe.index(code)\n",
    "            time=float(time)\n",
    "            if time-ageofr[i]>0:\n",
    "                if temp[dindex]>time:\n",
    "                    temp[dindex]=time\n",
    "            else:\n",
    "                temp[dindex]=np.nan\n",
    "    matrix.append(temp)"
   ]
  },
  {
   "cell_type": "code",
   "execution_count": null,
   "metadata": {},
   "outputs": [],
   "source": []
  },
  {
   "cell_type": "code",
   "execution_count": null,
   "metadata": {},
   "outputs": [],
   "source": [
    "matrix0_1direct=[]\n",
    "for i in range(502244):\n",
    "    print(i)\n",
    "    temp=np.ones((len(phe),))*agetillnow[i]\n",
    "    for k,v in overall.items():\n",
    "        for code,time in v[i].items():\n",
    "            dindex=phe.index(code)\n",
    "            time=float(time)\n",
    "            if time-ageofr[i]>0:\n",
    "                if temp[dindex]>time:\n",
    "                    temp[dindex]=time\n",
    "            else:\n",
    "                temp[dindex]=np.nan\n",
    "    matrix0_1direct.append(temp)"
   ]
  },
  {
   "cell_type": "code",
   "execution_count": null,
   "metadata": {},
   "outputs": [],
   "source": [
    "matrix\n",
    "matrix0_1=[]\n",
    "for i in matrix:\n",
    "    stop=np.nanmax(i)\n",
    "    nan=np.where(np.isnan(i))[0]\n",
    "    ones=np.where(i!=stop)[0]\n",
    "    temp=np.zeros((len(phe),))\n",
    "    temp[ones]=1\n",
    "    temp[nan]=np.nan\n",
    "    matrix0_1.append(temp)"
   ]
  },
  {
   "cell_type": "code",
   "execution_count": null,
   "metadata": {},
   "outputs": [],
   "source": [
    "matrix0_1=np.array(matrix0_1)"
   ]
  },
  {
   "cell_type": "code",
   "execution_count": null,
   "metadata": {},
   "outputs": [],
   "source": [
    "fulleid_dict = {value: index for index, value in enumerate(fulleid)}\n",
    "incidx = [fulleid_dict[i] for i in inceid]\n",
    "print(incidx)\n",
    "incidx=np.array(incidx)"
   ]
  },
  {
   "cell_type": "code",
   "execution_count": null,
   "metadata": {},
   "outputs": [],
   "source": [
    "np.save('../../../results/cache/0-1',matrix0_1[incidx,:])"
   ]
  },
  {
   "cell_type": "code",
   "execution_count": null,
   "metadata": {},
   "outputs": [],
   "source": [
    "np.save('../../../results/cache/cox',np.array(matrix)[incidx,:])"
   ]
  },
  {
   "cell_type": "code",
   "execution_count": null,
   "metadata": {},
   "outputs": [],
   "source": []
  }
 ],
 "metadata": {
  "kernelspec": {
   "display_name": "dl",
   "language": "python",
   "name": "python3"
  },
  "language_info": {
   "codemirror_mode": {
    "name": "ipython",
    "version": 3
   },
   "file_extension": ".py",
   "mimetype": "text/x-python",
   "name": "python",
   "nbconvert_exporter": "python",
   "pygments_lexer": "ipython3",
   "version": "3.1.undefined"
  }
 },
 "nbformat": 4,
 "nbformat_minor": 4
}
