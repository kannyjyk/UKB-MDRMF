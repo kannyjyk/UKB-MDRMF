{
 "cells": [
  {
   "cell_type": "code",
   "execution_count": 7,
   "metadata": {},
   "outputs": [],
   "source": [
    "import pandas as pd\n",
    "import numpy as np"
   ]
  },
  {
   "cell_type": "code",
   "execution_count": 2,
   "metadata": {},
   "outputs": [],
   "source": [
    "df = pd.read_csv('../../data/phecode_icd10.csv')\n",
    "input_file = pd.read_csv('../../data/phecode.csv')"
   ]
  },
  {
   "cell_type": "code",
   "execution_count": 5,
   "metadata": {},
   "outputs": [],
   "source": [
    "icdcode = ['A00']"
   ]
  },
  {
   "cell_type": "code",
   "execution_count": 9,
   "metadata": {},
   "outputs": [
    {
     "data": {
      "text/plain": [
       "array([8.])"
      ]
     },
     "execution_count": 9,
     "metadata": {},
     "output_type": "execute_result"
    }
   ],
   "source": [
    "PHECODE = df[df['ICD10'].str.contains('|'.join(icdcode))]['PheCode'].unique()\n",
    "PHECODE = PHECODE[~np.isnan(PHECODE)]\n",
    "PHECODE"
   ]
  },
  {
   "cell_type": "code",
   "execution_count": 11,
   "metadata": {},
   "outputs": [],
   "source": [
    "index = []\n",
    "newphe=[]\n",
    "for i in PHECODE:\n",
    "    try:\n",
    "        index.append(input_file[input_file['0'] == i].index.values[0])\n",
    "        newphe.append(i)\n",
    "    except:\n",
    "        pass"
   ]
  },
  {
   "cell_type": "code",
   "execution_count": 12,
   "metadata": {},
   "outputs": [
    {
     "data": {
      "text/plain": [
       "\"['A00', 'A00.0', 'A00.1', 'A00.9', 'A01', 'A01.1', 'A01.2', 'A01.3', 'A01.4', 'A05.9', 'A06', 'A06.0', 'A06.2', 'A06.3', 'A06.4', 'A06.5', 'A06.6', 'A06.7', 'A06.8', 'A06.9', 'A07', 'A07.3', 'A07.9', 'A09', 'A21.3', 'A22.2']\""
      ]
     },
     "execution_count": 12,
     "metadata": {},
     "output_type": "execute_result"
    }
   ],
   "source": [
    "str(sorted(df[df['PheCode'].isin(newphe)]['ICD10'].unique()))"
   ]
  }
 ],
 "metadata": {
  "kernelspec": {
   "display_name": "copy0",
   "language": "python",
   "name": "python3"
  },
  "language_info": {
   "codemirror_mode": {
    "name": "ipython",
    "version": 3
   },
   "file_extension": ".py",
   "mimetype": "text/x-python",
   "name": "python",
   "nbconvert_exporter": "python",
   "pygments_lexer": "ipython3",
   "version": "3.9.0"
  }
 },
 "nbformat": 4,
 "nbformat_minor": 2
}
