{
 "cells": [
  {
   "cell_type": "code",
   "execution_count": 2,
   "metadata": {},
   "outputs": [
    {
     "name": "stdout",
     "output_type": "stream",
     "text": [
      "def generate():\n",
      "    \"\"\"\n",
      "    Generates synthetic dataset containing biological indicators, survey data,\n",
      "    disease prevalence, and associated ages for a specified number of samples.\n",
      "    \n",
      "    Returns:\n",
      "        X (numpy.ndarray): Independent variables including biological indicators,\n",
      "                           survey responses, and current ages for each disease.\n",
      "        y (numpy.ndarray): Dependent variables representing label ages for each disease.\n",
      "        e (numpy.ndarray): Disease status indicators (0 or 1) for each disease.\n",
      "    \"\"\"\n",
      "    np.random.seed(0)\n",
      "    num_samples = datacount\n",
      "    num_diseases = 60  # Number of diseases\n",
      "\n",
      "    biosize = 65\n",
      "    surveysize = 10\n",
      "    biocount = 100\n",
      "    surveycount = 15\n",
      "    # 1. Generate biological indicator data\n",
      "    # Assume each biological indicator follows a normal distribution, parameters set based on common biological indicators\n",
      "    bio_data = {}\n",
      "    for i in range(biocount):\n",
      "        loc = 0\n",
      "        scale = 1\n",
      "        # Our process uses standardized data, if you want to use raw data, you can set loc and scale to other numbers, this might affect the performance of the model\n",
      "        bio_data[f\"bio_{i}\"] = np.random.normal(loc, scale, size=num_samples)\n",
      "\n",
      "    # Create DataFrame\n",
      "    df = pd.DataFrame(bio_data)\n",
      "    survey_data = {}\n",
      "    # 2. Generate survey data\n",
      "    # Assume survey questions are positive integers, such as number of cigarettes smoked, frequency of drinking, etc.\n",
      "    for i in range(surveycount):\n",
      "        lower = 0\n",
      "        upper = 1\n",
      "        # For demonstration purposes, we set the range to {0, 1} for simplicity\n",
      "        survey_data[f\"sur_{i}\"] = randint.rvs(lower, upper, size=num_samples)\n",
      "\n",
      "    df_survey = pd.DataFrame(survey_data)\n",
      "    df = pd.concat([df, df_survey], axis=1)\n",
      "\n",
      "    # 3. Generate death age\n",
      "    # Assume death age follows a normal distribution, mean 80 years, standard deviation 10 years\n",
      "    death_age = np.random.normal(loc=80, scale=10, size=num_samples).astype(int)\n",
      "    death_age = np.clip(death_age, a_min=20, a_max=None)  # Death age at least 20 years\n",
      "    df[\"death_age\"] = death_age\n",
      "\n",
      "    # 4. Construct disease prevalence (0-1) data and corresponding age labels\n",
      "    def generate_disease_data(df, bio_features, survey_features, disease_id):\n",
      "        selected_features = list(bio_features) + list(survey_features)\n",
      "\n",
      "        # Normalize selected features for computation\n",
      "        scaler = MinMaxScaler()\n",
      "        df_selected = df[selected_features]\n",
      "        df_scaled = scaler.fit_transform(df_selected)\n",
      "\n",
      "        # Define weights (here simply randomly assign weights)\n",
      "        n_features = df_scaled.shape[1]\n",
      "\n",
      "        main = 0.3  # 30% of variables will use double the range that generates significant impact on disease\n",
      "\n",
      "        # Calculate the number of variables to sample based on the proportion\n",
      "        num_main_features = int(n_features * main)\n",
      "\n",
      "        # Randomly select indices of variables controlled by 'main'\n",
      "        main_indices = np.random.choice(n_features, num_main_features, replace=False)\n",
      "\n",
      "        # Initialize weight array\n",
      "        lower = -1.3\n",
      "        upper = 1\n",
      "        weights = np.random.uniform(lower,upper, size=n_features)\n",
      "        # Numbers are set to achieve a overall 5-10% disease prevalence\n",
      "\n",
      "        weights[main_indices] = np.random.uniform(lower*2,upper*2, size=num_main_features)\n",
      "\n",
      "        linear_combination = np.dot(df_scaled, weights)\n",
      "        probabilities = 1 / (1 + np.exp(-linear_combination))  # Sigmoid function\n",
      "\n",
      "        # Generate 0-1 disease data based on probabilities\n",
      "        disease = np.random.binomial(1, probabilities)\n",
      "        df[f\"disease_{disease_id}\"] = disease\n",
      "\n",
      "        # Generate label age\n",
      "        # Assume current age is between 20 and 70 years\n",
      "        current_age = np.random.randint(20, 70, size=num_samples)\n",
      "        df[f\"current_age_{disease_id}\"] = current_age\n",
      "\n",
      "        # If diseased, disease age = current age + random time (1 to 20 years), and less than death age\n",
      "        disease_age = current_age + np.random.randint(1, 20, size=num_samples)\n",
      "        disease_age = np.where(\n",
      "            disease_age >= df[\"death_age\"], df[\"death_age\"] - 1, disease_age\n",
      "        )\n",
      "\n",
      "        # Label age: if diseased, then disease age; otherwise, death age\n",
      "        label_age = np.where(\n",
      "            df[f\"disease_{disease_id}\"] == 1, disease_age, df[\"death_age\"]\n",
      "        )\n",
      "        df[f\"label_age_disease_{disease_id}\"] = label_age\n",
      "\n",
      "        return df\n",
      "\n",
      "    # 4.1 For each disease, select features and generate data separately\n",
      "    for disease_id in range(1, num_diseases + 1):\n",
      "        selected_bio_features = np.random.choice(\n",
      "            list(bio_data.keys()), size=biosize, replace=False\n",
      "        )\n",
      "        selected_survey_features = np.random.choice(\n",
      "            list(survey_data.keys()), size=surveysize, replace=False\n",
      "        )\n",
      "        df = generate_disease_data(\n",
      "            df, selected_bio_features, selected_survey_features, disease_id\n",
      "        )\n",
      "\n",
      "    # 5. Select final features and labels\n",
      "    # Including all biological indicators, survey data, current age for each disease, disease status, and label age\n",
      "    final_features = list(bio_data.keys()) + list(survey_data.keys())\n",
      "\n",
      "    # Add current age, disease status, and label age for each disease\n",
      "    for disease_id in range(1, num_diseases + 1):\n",
      "        final_features += [\n",
      "            f\"current_age_{disease_id}\",\n",
      "            f\"disease_{disease_id}\",\n",
      "            f\"label_age_disease_{disease_id}\",\n",
      "        ]\n",
      "\n",
      "    # Final dataset includes all features and labels\n",
      "    df_final = df[final_features + [\"death_age\"]]\n",
      "\n",
      "    # 6. Save independent variables, diseases, and disease ages as three numpy arrays X, y, e\n",
      "    # Independent variables X include all biological indicators, survey data, and current age for each disease\n",
      "    feature_columns = list(bio_data.keys()) + list(\n",
      "        survey_data.keys()\n",
      "    )  # + [f'current_age_{d}' for d in range(1, num_diseases + 1)]\n",
      "    X = df_final[feature_columns].to_numpy()\n",
      "\n",
      "    # Disease y includes all disease statuses\n",
      "    e = df_final[[f\"disease_{d}\" for d in range(1, num_diseases + 1)]].to_numpy()\n",
      "\n",
      "    # Disease age e includes all label ages for diseases\n",
      "    y = df_final[\n",
      "        [f\"label_age_disease_{d}\" for d in range(1, num_diseases + 1)]\n",
      "    ].to_numpy()\n",
      "\n",
      "    return X, y, e\n",
      "\n"
     ]
    }
   ],
   "source": [
    "from fileloader import *\n",
    "from trainwrapper import *\n",
    "import inspect\n",
    "'''\n",
    "This file will guide you through the process of training a model on the dataset with the given toolkit.\n",
    "A basic model performace analysis is also included, other analysis can be done by using the tools in the toolkit.\n",
    "We will use sythetic data in this demo.\n",
    "'''\n",
    "source_code = inspect.getsource(generate)# check the generation function, identical to the one in the randomdatagen.py\n",
    "print(source_code)"
   ]
  },
  {
   "cell_type": "code",
   "execution_count": 3,
   "metadata": {},
   "outputs": [],
   "source": [
    "dummy=7\n",
    "commands=[]\n",
    "gpu=0\n",
    "for category in [dummy]:# specify the category of the dataset here, 7 for dummy dataset, see above output for more details\n",
    "    for model in [1]:# choose your model, 0 for POPDX, 1 for FCNN, 2 for logit, 3 for MITH, note that only 1 and 2 are available for the dummy dataset since other two require pretrained embeddings\n",
    "        for hyperparameter in range(15):# choose the hyperparameter setting, use range(15) for all parameters, see details in trainer.py\n",
    "            if category ==7:\n",
    "                xtype=3\n",
    "            else:\n",
    "                xtype=0\n",
    "            c=cmdfull(category,model,hyperparameter,xtype,folder,ava_gpus(gpu))# this generates the shell command to use the standard (cmdfull) training model, see more in trainwrapper.py\n",
    "            commands.append(c)# add to the list of commands to be executed\n",
    "            gpu+=1# call next gpu to avoid overloading\n",
    "\n",
    "# the following code is for the survival analysis, with the same structure as above\n",
    "for category in [dummy]:\n",
    "    for model in [1]:\n",
    "        if category ==7:\n",
    "            xtype=3\n",
    "        else:\n",
    "            xtype=0\n",
    "        c=cmdsurv(category,model,0,xtype,folder,ava_gpus(gpu))\n",
    "        commands.append(c)\n",
    "        gpu+=1\n",
    "                "
   ]
  },
  {
   "cell_type": "code",
   "execution_count": 4,
   "metadata": {},
   "outputs": [
    {
     "name": "stdout",
     "output_type": "stream",
     "text": [
      "['python ./trainer.py 7 1 0 3 1 1015\\n', 'python ./trainer.py 7 1 1 3 2 1015\\n', 'python ./trainer.py 7 1 2 3 3 1015\\n', 'python ./trainer.py 7 1 3 3 4 1015\\n', 'python ./trainer.py 7 1 4 3 5 1015\\n', 'python ./trainer.py 7 1 5 3 6 1015\\n', 'python ./trainer.py 7 1 6 3 7 1015\\n', 'python ./trainer.py 7 1 7 3 1 1015\\n', 'python ./trainer.py 7 1 8 3 2 1015\\n', 'python ./trainer.py 7 1 9 3 3 1015\\n', 'python ./trainer.py 7 1 10 3 4 1015\\n', 'python ./trainer.py 7 1 11 3 5 1015\\n', 'python ./trainer.py 7 1 12 3 6 1015\\n', 'python ./trainer.py 7 1 13 3 7 1015\\n', 'python ./trainer.py 7 1 14 3 1 1015\\n', 'python ./trainersurv.py 7 1 0 3 2 1015\\n']\n"
     ]
    }
   ],
   "source": [
    "print(commands)# check the commands"
   ]
  },
  {
   "cell_type": "code",
   "execution_count": null,
   "metadata": {},
   "outputs": [],
   "source": [
    "for command in commands:\n",
    "    os.system(command)# execute the command, parallel training is supported by the toolkits but not available in jupyter, see trainwrapper.py for details"
   ]
  },
  {
   "cell_type": "markdown",
   "metadata": {},
   "source": [
    "We will demonstrate using the output of FCNN on the dummy dataset \n",
    "\n",
    "Check auc output files first"
   ]
  },
  {
   "cell_type": "code",
   "execution_count": 5,
   "metadata": {},
   "outputs": [
    {
     "name": "stdout",
     "output_type": "stream",
     "text": [
      "713_0.npy\n",
      "713_1.npy\n",
      "713_10.npy\n",
      "713_11.npy\n",
      "713_12.npy\n",
      "713_13.npy\n",
      "713_2.npy\n",
      "713_3.npy\n",
      "713_4.npy\n",
      "713_5.npy\n",
      "713_6.npy\n",
      "713_7.npy\n",
      "713_8.npy\n",
      "713_9.npy\n"
     ]
    }
   ],
   "source": [
    "AUC_files=[]\n",
    "for i in sorted(os.listdir(folder)):\n",
    "    if '.npy' in i:\n",
    "        if '_' in i:\n",
    "            print(i)\n",
    "            AUC_files.append(i)"
   ]
  },
  {
   "cell_type": "markdown",
   "metadata": {},
   "source": [
    "The first 3 number corresponds to category model xtype, the number after '_' corresponds to hyperparameter."
   ]
  },
  {
   "cell_type": "code",
   "execution_count": 6,
   "metadata": {},
   "outputs": [
    {
     "data": {
      "image/png": "[encoded data removed]",
      "text/plain": [
       "<Figure size 640x480 with 1 Axes>"
      ]
     },
     "metadata": {},
     "output_type": "display_data"
    }
   ],
   "source": [
    "import seaborn as sns\n",
    "import numpy as np\n",
    "import matplotlib.pyplot as plt\n",
    "def s(x):\n",
    "    return int(x.split('_')[1].split('.')[0])\n",
    "ordered_data=[]\n",
    "for i in sorted(AUC_files,key=s):\n",
    "    ordered_data.append(np.load(f'{folder}/{i}'))\n",
    "plt.figure(dpi=100)\n",
    "mean_values = [np.nanmean(method) for method in ordered_data]\n",
    "for i, mean in enumerate(mean_values):\n",
    "    plt.text(i, mean, f'{mean:.3f}', ha='center', va='bottom', fontsize=5)\n",
    "sns.boxplot(data=ordered_data)\n",
    "plt.xticks(np.arange(len(ordered_data)), sorted(AUC_files,key=s), rotation=45)\n",
    "plt.xlabel('Model name')\n",
    "plt.ylabel('AUC')\n",
    "plt.show()"
   ]
  }
 ],
 "metadata": {
  "kernelspec": {
   "display_name": "dl",
   "language": "python",
   "name": "python3"
  },
  "language_info": {
   "codemirror_mode": {
    "name": "ipython",
    "version": 3
   },
   "file_extension": ".py",
   "mimetype": "text/x-python",
   "name": "python",
   "nbconvert_exporter": "python",
   "pygments_lexer": "ipython3",
   "version": "3.11.5"
  }
 },
 "nbformat": 4,
 "nbformat_minor": 2
}
